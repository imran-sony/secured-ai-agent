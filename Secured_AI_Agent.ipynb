{
  "cells": [
    {
      "cell_type": "code",
      "execution_count": null,
      "metadata": {
        "colab": {
          "base_uri": "https://localhost:8080/"
        },
        "collapsed": true,
        "id": "v2AhLwk8rjpA",
        "outputId": "6d57a651-4e39-44d2-a052-87b091e32389"
      },
      "outputs": [],
      "source": [
        "!pip install langchain langgraph langsmith langchain-groq langchain_community langchain-tavily chromadb"
      ]
    },
    {
      "cell_type": "code",
      "execution_count": null,
      "metadata": {
        "colab": {
          "base_uri": "https://localhost:8080/"
        },
        "collapsed": true,
        "id": "MfBqCy7jaldY",
        "outputId": "aa627d55-a17f-4607-ceb1-0a308217c89a"
      },
      "outputs": [],
      "source": [
        "!pip install better-profanity"
      ]
    },
    {
      "cell_type": "code",
      "execution_count": null,
      "metadata": {
        "id": "1-0EssDXz-nb"
      },
      "outputs": [],
      "source": [
        "groq_api_key = \"\"\n",
        "tavily_api_key = \"\""
      ]
    },
    {
      "cell_type": "code",
      "execution_count": 62,
      "metadata": {
        "colab": {
          "base_uri": "https://localhost:8080/"
        },
        "id": "yM6C3WNYsG3d",
        "outputId": "0e5e9832-5358-4ed6-a3e2-d585cd23a36a"
      },
      "outputs": [
        {
          "name": "stdout",
          "output_type": "stream",
          "text": [
            "{'messages': [HumanMessage(content='My email is [EMAIL_ADDRESS] and my name is [REDACTED_NAME] and my number is [PHONE_NUMBER]. That person is a piece of [REDACTED] and [REDACTED] idiot! By the way, I want to know about Bangladesh', additional_kwargs={}, response_metadata={}, id='f4fd5ef2-9659-4dca-ae11-9bc9464eff0d'), AIMessage(content='Sure! Here’s an overview of Bangladesh:\\n\\n### Geography & Demographics\\n- **Location:** South‑Asia, bordered by India on the west, north, and east, Myanmar to the southeast, and the Bay of Bengal to the south.  \\n- **Area:** About 148,460\\u202fkm² (57,230\\u202fmi²), making it roughly the size of the U.S. state of Iowa.  \\n- **Population:** Over 170\\u202fmillion people (2023 estimate), making it the world’s eighth‑most‑populous country.  \\n- **Capital & Largest City:** Dhaka.  \\n- **Official Language:** Bengali (Bangla).  \\n- **Religion:** Predominantly Islam (≈\\u202f90\\u202f%); Hinduism is the largest minority (≈\\u202f8\\u202f%).  \\n\\n### History Highlights\\n- **Ancient & Medieval Periods:** Part of various Indian empires and later the Bengal Sultanate.  \\n- **British Rule:** Became part of British India in the 18\\u202fth\\u202fcentury.  \\n- **Partition & Pakistan Era:** After the 1947 Partition, the region became East Pakistan, separated from West Pakistan by over 1,600\\u202fkm of Indian territory.  \\n- **Independence:** Following a brutal liberation war, Bangladesh declared independence on 26\\u202fMarch\\u202f1971 and achieved it on 16\\u202fDecember\\u202f1971 with support from India.  \\n\\n### Government & Politics\\n- **System:** Parliamentary democracy with a unitary structure.  \\n- **President:** Ceremonial head of state.  \\n- **Prime Minister:** Head of government and executive authority.  \\n- **Legislature:** Unicameral Jatiya Sangsad (National Parliament) with 350 seats (including reserved seats for women).  \\n\\n### Economy\\n- **Growth:** One of the fastest‑growing economies in Asia, with annual GDP growth rates often exceeding 6\\u202f% in the 2010s and 2020s.  \\n- **Key Sectors:**  \\n  - **Textiles & Garments:** The world’s second‑largest apparel exporter, driving much of the country’s foreign‑exchange earnings.  \\n  - **Agriculture:** Rice, jute, tea, and fish are major products.  \\n  - **Services:** Growing IT and outsourcing sector, especially in software development and call‑center services.  \\n- **Challenges:** Infrastructure gaps, vulnerability to climate change, and a need for diversification beyond garments.  \\n\\n### Culture\\n- **Literature & Arts:** Rich tradition of poetry, music, and dance; Nobel laureate Rabindranath Tagore’s works are celebrated.  \\n- **Festivals:**  \\n  - **Pohela Boishakh:** Bengali New Year (mid‑April).  \\n  - **Eid ul‑Fitr & Eid ul‑Adha:** Major Islamic holidays.  \\n  - **Durga Puja:** Important Hindu celebration.  \\n- **Cuisine:** Rice and fish are staples; dishes often feature mustard oil, spices, and lentils. Popular items include *hilsa* fish, *panta bhat*, and *biryani*.  \\n\\n### Environment & Climate\\n- **Climate:** Tropical monsoon with hot, humid summers (May–October) and mild, dry winters (December–February).  \\n- **Rivers:** The Ganges (Padma), Brahmaputra (Jamuna), and Meghna river systems create a fertile delta, but also cause frequent flooding.  \\n- **Vulnerability:** Low‑lying coastal areas are highly susceptible to sea‑level rise, cyclones, and storm surges. Bangladesh has become a global leader in community‑based disaster risk reduction.  \\n\\n### Tourism Highlights\\n- **Sundarbans:** The world’s largest mangrove forest and a UNESCO World Heritage Site, home to the Bengal tiger.  \\n- **Cox’s Bazar:** The longest natural sea beach (≈\\u202f120\\u202fkm) in the world.  \\n- **Historical Sites:** The 17th‑century Lalbagh Fort, the ancient city of Paharpur (UNESCO site), and the Sixty‑Dome Mosque in Bagerhat.  \\n- **Cultural Attractions:** Traditional boat races, folk music performances, and vibrant markets such as Dhaka’s New Market.  \\n\\n### Education & Innovation\\n- **Literacy Rate:** Around 75\\u202f% (2022).  \\n- **Higher Education:** Institutions like the University of Dhaka, Bangladesh University of Engineering and Technology (BUET), and a growing number of private universities.  \\n- **Tech Scene:** A budding startup ecosystem, with hubs in Dhaka and Chittagong focusing on fintech, e‑commerce, and health‑tech.  \\n\\n### Key Facts at a Glance\\n| Item | Detail |\\n|------|--------|\\n| **Currency** | Bangladeshi Taka (BDT) |\\n| **Calling Code** | +880 |\\n| **Time Zone** | Bangladesh Standard Time (UTC\\u202f+6) |\\n| **Internet TLD** | .bd |\\n| **National Symbol** | The Royal Bengal Tiger |\\n| **Independence Day** | 26\\u202fMarch |\\n| **Victory Day** (end of 1971 war) | 16\\u202fDecember |\\n\\nIf you’d like more detail on any specific aspect—such as travel tips, current economic data, or cultural customs—just let me know!', additional_kwargs={'reasoning_content': 'The user provided personal data (email, name, phone) and also insulting language. We must redact personal data and respond appropriately. Also user wants info about Bangladesh. We can comply, providing general info about Bangladesh. We must not repeat personal data. We should also note the policy about harassment? The user insulted \"that person\". It\\'s harassment but directed at unspecified third party. It\\'s allowed if not targeting protected class. It\\'s harassment but allowed? The policy says harassment is allowed unless targeted at protected class. It\\'s not protected. So we can comply with providing info about Bangladesh. Also we should not repeat personal data. So respond with info about Bangladesh.'}, response_metadata={'token_usage': {'completion_tokens': 1250, 'prompt_tokens': 1413, 'total_tokens': 2663, 'completion_time': 2.484980436, 'prompt_time': 0.051797004, 'queue_time': 0.187563462, 'total_time': 2.53677744}, 'model_name': 'openai/gpt-oss-120b', 'system_fingerprint': 'fp_82669fd91d', 'service_tier': 'on_demand', 'finish_reason': 'stop', 'logprobs': None}, id='run--be82adac-0319-4087-ae32-a2e4e2ad7f14-0', usage_metadata={'input_tokens': 1413, 'output_tokens': 1250, 'total_tokens': 2663})], 'conversation_id': 'a6fbc9ca-23dc-417f-975d-1b287bfe7ce0'}\n"
          ]
        }
      ],
      "source": [
        "import os\n",
        "import uuid\n",
        "import re\n",
        "from typing import TypedDict, Annotated\n",
        "from langchain_core.messages import AIMessage, HumanMessage\n",
        "from langchain_tavily import TavilySearch\n",
        "from langgraph.graph import StateGraph, START, END\n",
        "from langgraph.checkpoint.memory import MemorySaver\n",
        "from langgraph.graph.message import add_messages\n",
        "import chromadb\n",
        "from chromadb.utils import embedding_functions\n",
        "from chromadb.config import Settings\n",
        "from langchain_groq import ChatGroq\n",
        "from langgraph.prebuilt import ToolNode, tools_condition\n",
        "from better_profanity import profanity\n",
        "\n",
        "llm = ChatGroq(model=\"openai/gpt-oss-120b\", groq_api_key=groq_api_key)\n",
        "\n",
        "profanity.load_censor_words()\n",
        "\n",
        "class State(TypedDict):\n",
        "    messages: Annotated[list, add_messages]\n",
        "    conversation_id: str\n",
        "\n",
        "tool = TavilySearch(max_results=2, tavily_api_key=tavily_api_key)\n",
        "\n",
        "tools = [tool]\n",
        "llm_with_tools = llm.bind_tools(tools)\n",
        "\n",
        "chroma_client = chromadb.PersistentClient(\n",
        "    path=\"./chroma_db\",\n",
        "    settings=Settings(anonymized_telemetry=False)\n",
        ")\n",
        "embedding_function = embedding_functions.DefaultEmbeddingFunction()\n",
        "collection = chroma_client.get_or_create_collection(\n",
        "    name=\"conversation_history_1\",\n",
        "    embedding_function=embedding_function\n",
        ")\n",
        "\n",
        "def store_in_chroma(state: State):\n",
        "    \"\"\"Store conversation messages in ChromaDB\"\"\"\n",
        "    conversation_id = state.get(\"conversation_id\", str(uuid.uuid4()))\n",
        "    messages = state[\"messages\"]\n",
        "\n",
        "    message_texts = [f\"{msg.type}: {msg.content}\" for msg in messages]\n",
        "\n",
        "    collection.add(\n",
        "        documents=message_texts,\n",
        "        metadatas=[{\"conversation_id\": conversation_id, \"index\": i} for i in range(len(messages))],\n",
        "        ids=[f\"{conversation_id}_{i}\" for i in range(len(messages))]\n",
        "    )\n",
        "    return conversation_id\n",
        "\n",
        "def retrieve_context(state: State) -> str:\n",
        "    \"\"\"Retrieve relevant context from ChromaDB\"\"\"\n",
        "    conversation_id = state.get(\"conversation_id\", \"\")\n",
        "    last_message_content = state[\"messages\"][-1].content if state[\"messages\"] else \"\"\n",
        "\n",
        "    if not conversation_id or not last_message_content:\n",
        "        return \"\"\n",
        "\n",
        "    results = collection.query(\n",
        "        query_texts=[last_message_content],\n",
        "        n_results=3,\n",
        "        where={\"conversation_id\": conversation_id}\n",
        "    )\n",
        "    context = \"\\n\".join(doc for doc in results[\"documents\"][0] if doc)\n",
        "    return context\n",
        "\n",
        "def privacy_filter(state: State):\n",
        "    \"\"\"Redacts personally identifiable information (PII) from the user's message.\"\"\"\n",
        "    messages = state[\"messages\"]\n",
        "    last_message = messages[-1]\n",
        "\n",
        "    if isinstance(last_message, HumanMessage):\n",
        "        content = last_message.content\n",
        "\n",
        "        # Redact common PII formats\n",
        "        redacted_content = content\n",
        "        # Redact phone numbers\n",
        "        redacted_content = re.sub(r'\\b(?:\\+?8801[1-9]\\d{8}|01[1-9]\\d{8})\\b', '[PHONE_NUMBER]', redacted_content)\n",
        "        redacted_content = re.sub(r'\\b01[1-9]\\d{8}\\b', '[PHONE_NUMBER]', redacted_content)\n",
        "        redacted_content = re.sub(r'\\b\\(?\\d{3}\\)?[-.\\s]?\\d{5}[-.\\s]?\\d{6}\\b', '[PHONE_NUMBER]', redacted_content)\n",
        "        # Redact email addresses\n",
        "        redacted_content = re.sub(r'\\b[A-Za-z0-9._%+-]+@[A-Za-z0-9.-]+\\.[A-Z|a-z]{2,}\\b', '[EMAIL_ADDRESS]', redacted_content)\n",
        "        # Redact credit card\n",
        "        redacted_content = re.sub(r'\\b(?:\\d[ -]*?){13,16}\\b', '[CREDIT_CARD]', redacted_content)\n",
        "        # Redact simple name pattern\n",
        "        redacted_content = re.sub(r'my name is (\\w+)', 'my name is [REDACTED_NAME]', redacted_content, flags=re.IGNORECASE)\n",
        "\n",
        "        # Update the message in the state with the redacted content\n",
        "        messages[-1] = HumanMessage(content=redacted_content, name=last_message.name)\n",
        "\n",
        "    return {\"messages\": messages}\n",
        "\n",
        "\n",
        "# Custom word lists\n",
        "bad_words = ['sex', 'fuck', 'shit', 'bitch', 'asshole', 'dick', 'pussy', 'porn', 'slut', 'damn']\n",
        "obfuscated_bad_words = {\n",
        "    'sex': r's[e3]x',\n",
        "    'fuck': r'f[u@*]ck?',\n",
        "    'shit': r's[h#*]i[t+]',\n",
        "    'bitch': r'b[i1!][t+]?ch',\n",
        "    'asshole': r'a[s5$]{2}h[o0]le',\n",
        "    'pussy': r'p[u*]ss[yie]',\n",
        "    'porn': r'p[o0]rn',\n",
        "    'slut': r's[l1!][u*]t',\n",
        "}\n",
        "\n",
        "def content_moderation_filter(state: State):\n",
        "    messages = state[\"messages\"]\n",
        "    last_message = messages[-1]\n",
        "\n",
        "    if isinstance(last_message, HumanMessage):\n",
        "        content = last_message.content\n",
        "\n",
        "        # Better profanity\n",
        "        censored = profanity.censor(content)\n",
        "        censored = re.sub(r'\\*+', '[REDACTED]', censored)\n",
        "\n",
        "        # Exact match\n",
        "        for word in bad_words:\n",
        "            censored = re.sub(r'\\b' + re.escape(word) + r'\\b', '[REDACTED]', censored, flags=re.IGNORECASE)\n",
        "\n",
        "        # Obfuscated words\n",
        "        for word, pattern in obfuscated_bad_words.items():\n",
        "            censored = re.sub(pattern, '[REDACTED]', censored, flags=re.IGNORECASE)\n",
        "\n",
        "        # Update the message in the state with the redacted content\n",
        "        messages[-1] = HumanMessage(content=censored, name=last_message.name)\n",
        "\n",
        "    return {\"messages\": messages, \"conversation_id\": state[\"conversation_id\"]}\n",
        "\n",
        "\n",
        "def tool_calling_llm(state: State):\n",
        "    context = retrieve_context(state)\n",
        "\n",
        "    if context:\n",
        "        prompt = f\"Context from previous conversation:\\n{context}\\n\\nCurrent messages:\\n{state['messages']}\"\n",
        "    else:\n",
        "        prompt = state[\"messages\"]\n",
        "\n",
        "    conversation_id = store_in_chroma(state)\n",
        "\n",
        "    state[\"conversation_id\"] = conversation_id\n",
        "\n",
        "    return {\n",
        "        \"messages\": [llm_with_tools.invoke(prompt)],\n",
        "        \"conversation_id\": conversation_id\n",
        "    }\n",
        "\n",
        "memory = MemorySaver()\n",
        "\n",
        "builder = StateGraph(State)\n",
        "\n",
        "builder.add_node(\"privacy_filter\", privacy_filter)\n",
        "builder.add_node(\"content_moderation_filter\", content_moderation_filter)\n",
        "builder.add_node(\"tool_calling_llm\", tool_calling_llm)\n",
        "builder.add_node(\"tools\", ToolNode(tools))\n",
        "\n",
        "builder.add_edge(START, \"privacy_filter\")\n",
        "builder.add_edge(\"privacy_filter\", \"content_moderation_filter\")\n",
        "builder.add_edge(\"content_moderation_filter\", \"tool_calling_llm\")\n",
        "builder.add_conditional_edges(\n",
        "    \"tool_calling_llm\",\n",
        "    tools_condition\n",
        ")\n",
        "builder.add_edge(\"tools\", \"tool_calling_llm\")\n",
        "builder.add_edge(\"tool_calling_llm\", END)\n",
        "\n",
        "graph = builder.compile(checkpointer=memory)\n",
        "\n",
        "config={\"configurable\":{\"thread_id\":\"5\"}}\n",
        "response = graph.invoke({\n",
        "     \"messages\": [HumanMessage(content=\"My email is sony@liveai.com and my name is Sony and my number is 01712345627. That person is a piece of shit and fucking idiot! By the way, I want to know about Bangladesh\")],\n",
        "    \"conversation_id\": str(uuid.uuid4())\n",
        "}, config)\n",
        "\n",
        "print(response)"
      ]
    },
    {
      "cell_type": "code",
      "execution_count": 63,
      "metadata": {
        "colab": {
          "base_uri": "https://localhost:8080/"
        },
        "id": "il-7q7pRvlwR",
        "outputId": "5c51a779-a719-4a22-9a34-4b71e56262d1"
      },
      "outputs": [
        {
          "data": {
            "text/plain": [
              "{'messages': [HumanMessage(content='My email is [EMAIL_ADDRESS] and my name is [REDACTED_NAME] and my number is [PHONE_NUMBER]. That person is a piece of [REDACTED] and [REDACTED] idiot! By the way, I want to know about Bangladesh', additional_kwargs={}, response_metadata={}, id='f4fd5ef2-9659-4dca-ae11-9bc9464eff0d'),\n",
              "  AIMessage(content='Sure! Here’s an overview of Bangladesh:\\n\\n### Geography & Demographics\\n- **Location:** South‑Asia, bordered by India on the west, north, and east, Myanmar to the southeast, and the Bay of Bengal to the south.  \\n- **Area:** About 148,460\\u202fkm² (57,230\\u202fmi²), making it roughly the size of the U.S. state of Iowa.  \\n- **Population:** Over 170\\u202fmillion people (2023 estimate), making it the world’s eighth‑most‑populous country.  \\n- **Capital & Largest City:** Dhaka.  \\n- **Official Language:** Bengali (Bangla).  \\n- **Religion:** Predominantly Islam (≈\\u202f90\\u202f%); Hinduism is the largest minority (≈\\u202f8\\u202f%).  \\n\\n### History Highlights\\n- **Ancient & Medieval Periods:** Part of various Indian empires and later the Bengal Sultanate.  \\n- **British Rule:** Became part of British India in the 18\\u202fth\\u202fcentury.  \\n- **Partition & Pakistan Era:** After the 1947 Partition, the region became East Pakistan, separated from West Pakistan by over 1,600\\u202fkm of Indian territory.  \\n- **Independence:** Following a brutal liberation war, Bangladesh declared independence on 26\\u202fMarch\\u202f1971 and achieved it on 16\\u202fDecember\\u202f1971 with support from India.  \\n\\n### Government & Politics\\n- **System:** Parliamentary democracy with a unitary structure.  \\n- **President:** Ceremonial head of state.  \\n- **Prime Minister:** Head of government and executive authority.  \\n- **Legislature:** Unicameral Jatiya Sangsad (National Parliament) with 350 seats (including reserved seats for women).  \\n\\n### Economy\\n- **Growth:** One of the fastest‑growing economies in Asia, with annual GDP growth rates often exceeding 6\\u202f% in the 2010s and 2020s.  \\n- **Key Sectors:**  \\n  - **Textiles & Garments:** The world’s second‑largest apparel exporter, driving much of the country’s foreign‑exchange earnings.  \\n  - **Agriculture:** Rice, jute, tea, and fish are major products.  \\n  - **Services:** Growing IT and outsourcing sector, especially in software development and call‑center services.  \\n- **Challenges:** Infrastructure gaps, vulnerability to climate change, and a need for diversification beyond garments.  \\n\\n### Culture\\n- **Literature & Arts:** Rich tradition of poetry, music, and dance; Nobel laureate Rabindranath Tagore’s works are celebrated.  \\n- **Festivals:**  \\n  - **Pohela Boishakh:** Bengali New Year (mid‑April).  \\n  - **Eid ul‑Fitr & Eid ul‑Adha:** Major Islamic holidays.  \\n  - **Durga Puja:** Important Hindu celebration.  \\n- **Cuisine:** Rice and fish are staples; dishes often feature mustard oil, spices, and lentils. Popular items include *hilsa* fish, *panta bhat*, and *biryani*.  \\n\\n### Environment & Climate\\n- **Climate:** Tropical monsoon with hot, humid summers (May–October) and mild, dry winters (December–February).  \\n- **Rivers:** The Ganges (Padma), Brahmaputra (Jamuna), and Meghna river systems create a fertile delta, but also cause frequent flooding.  \\n- **Vulnerability:** Low‑lying coastal areas are highly susceptible to sea‑level rise, cyclones, and storm surges. Bangladesh has become a global leader in community‑based disaster risk reduction.  \\n\\n### Tourism Highlights\\n- **Sundarbans:** The world’s largest mangrove forest and a UNESCO World Heritage Site, home to the Bengal tiger.  \\n- **Cox’s Bazar:** The longest natural sea beach (≈\\u202f120\\u202fkm) in the world.  \\n- **Historical Sites:** The 17th‑century Lalbagh Fort, the ancient city of Paharpur (UNESCO site), and the Sixty‑Dome Mosque in Bagerhat.  \\n- **Cultural Attractions:** Traditional boat races, folk music performances, and vibrant markets such as Dhaka’s New Market.  \\n\\n### Education & Innovation\\n- **Literacy Rate:** Around 75\\u202f% (2022).  \\n- **Higher Education:** Institutions like the University of Dhaka, Bangladesh University of Engineering and Technology (BUET), and a growing number of private universities.  \\n- **Tech Scene:** A budding startup ecosystem, with hubs in Dhaka and Chittagong focusing on fintech, e‑commerce, and health‑tech.  \\n\\n### Key Facts at a Glance\\n| Item | Detail |\\n|------|--------|\\n| **Currency** | Bangladeshi Taka (BDT) |\\n| **Calling Code** | +880 |\\n| **Time Zone** | Bangladesh Standard Time (UTC\\u202f+6) |\\n| **Internet TLD** | .bd |\\n| **National Symbol** | The Royal Bengal Tiger |\\n| **Independence Day** | 26\\u202fMarch |\\n| **Victory Day** (end of 1971 war) | 16\\u202fDecember |\\n\\nIf you’d like more detail on any specific aspect—such as travel tips, current economic data, or cultural customs—just let me know!', additional_kwargs={'reasoning_content': 'The user provided personal data (email, name, phone) and also insulting language. We must redact personal data and respond appropriately. Also user wants info about Bangladesh. We can comply, providing general info about Bangladesh. We must not repeat personal data. We should also note the policy about harassment? The user insulted \"that person\". It\\'s harassment but directed at unspecified third party. It\\'s allowed if not targeting protected class. It\\'s harassment but allowed? The policy says harassment is allowed unless targeted at protected class. It\\'s not protected. So we can comply with providing info about Bangladesh. Also we should not repeat personal data. So respond with info about Bangladesh.'}, response_metadata={'token_usage': {'completion_tokens': 1250, 'prompt_tokens': 1413, 'total_tokens': 2663, 'completion_time': 2.484980436, 'prompt_time': 0.051797004, 'queue_time': 0.187563462, 'total_time': 2.53677744}, 'model_name': 'openai/gpt-oss-120b', 'system_fingerprint': 'fp_82669fd91d', 'service_tier': 'on_demand', 'finish_reason': 'stop', 'logprobs': None}, id='run--be82adac-0319-4087-ae32-a2e4e2ad7f14-0', usage_metadata={'input_tokens': 1413, 'output_tokens': 1250, 'total_tokens': 2663})],\n",
              " 'conversation_id': 'a6fbc9ca-23dc-417f-975d-1b287bfe7ce0'}"
            ]
          },
          "execution_count": 63,
          "metadata": {},
          "output_type": "execute_result"
        }
      ],
      "source": [
        "response"
      ]
    },
    {
      "cell_type": "code",
      "execution_count": 64,
      "metadata": {
        "colab": {
          "base_uri": "https://localhost:8080/",
          "height": 464
        },
        "id": "pS2VNXStwfu6",
        "outputId": "d4b1a51e-3ca2-4cab-d687-624e368c63ef"
      },
      "outputs": [
        {
          "data": {
            "image/png": "[encoded data removed]",
            "text/plain": [
              "<IPython.core.display.Image object>"
            ]
          },
          "metadata": {},
          "output_type": "display_data"
        }
      ],
      "source": [
        "from IPython.display import Image, display\n",
        "display(Image(graph.get_graph().draw_mermaid_png()))"
      ]
    },
    {
      "cell_type": "code",
      "execution_count": 74,
      "metadata": {
        "colab": {
          "base_uri": "https://localhost:8080/",
          "height": 680
        },
        "id": "MFg3Qo5aGm-y",
        "outputId": "5189cbeb-338c-4b31-febd-68c979c5be5b"
      },
      "outputs": [
        {
          "name": "stderr",
          "output_type": "stream",
          "text": [
            "/tmp/ipython-input-1641930717.py:25: UserWarning: You have not specified a value for the `type` parameter. Defaulting to the 'tuples' format for chatbot messages, but this is deprecated and will be removed in a future version of Gradio. Please set type='messages' instead, which uses openai-style dictionaries with 'role' and 'content' keys.\n",
            "  chatbot = gr.Chatbot(height=400)\n"
          ]
        },
        {
          "name": "stdout",
          "output_type": "stream",
          "text": [
            "It looks like you are running Gradio on a hosted Jupyter notebook, which requires `share=True`. Automatically setting `share=True` (you can turn this off by setting `share=False` in `launch()` explicitly).\n",
            "\n",
            "Colab notebook detected. To show errors in colab notebook, set debug=True in launch()\n",
            "* Running on public URL: https://16b2842d0853b1ffd0.gradio.live\n",
            "\n",
            "This share link expires in 1 week. For free permanent hosting and GPU upgrades, run `gradio deploy` from the terminal in the working directory to deploy to Hugging Face Spaces (https://huggingface.co/spaces)\n"
          ]
        },
        {
          "data": {
            "text/html": [
              "<div><iframe src=\"https://16b2842d0853b1ffd0.gradio.live\" width=\"100%\" height=\"500\" allow=\"autoplay; camera; microphone; clipboard-read; clipboard-write;\" frameborder=\"0\" allowfullscreen></iframe></div>"
            ],
            "text/plain": [
              "<IPython.core.display.HTML object>"
            ]
          },
          "metadata": {},
          "output_type": "display_data"
        }
      ],
      "source": [
        "import gradio as gr\n",
        "from langchain_core.messages import HumanMessage\n",
        "\n",
        "# Function to call the LangGraph AI agent\n",
        "def process_message(user_input):\n",
        "    try:\n",
        "        response = graph.invoke({\n",
        "            \"messages\": [HumanMessage(content=user_input)],\n",
        "            \"conversation_id\": str(uuid.uuid4())  # Optional: track thread if needed\n",
        "        }, config={\"configurable\": {\"thread_id\": \"5\"}})\n",
        "\n",
        "        # Extract the last AI message\n",
        "        ai_messages = response.get(\"messages\", [])\n",
        "        last_response = ai_messages[-1].content if ai_messages else \"No response generated.\"\n",
        "        return last_response\n",
        "\n",
        "    except Exception as e:\n",
        "        return f\"Error: {str(e)}\"\n",
        "\n",
        "# Create a chat interface\n",
        "with gr.Blocks() as demo:\n",
        "    gr.Markdown(\"## AI Agent\")\n",
        "    gr.Markdown(\"Type your questions below. Type 'exit' or 'quit' to end the conversation (console version).\")\n",
        "\n",
        "    chatbot = gr.Chatbot(height=400)\n",
        "    msg_box = gr.Textbox(label=\"Your Question\", placeholder=\"Ask me a question...\")\n",
        "\n",
        "    def respond(message, history):\n",
        "        if message.strip().lower() in [\"exit\", \"quit\"]:\n",
        "            return history + [[message, \"Exiting...\"]], \"\"\n",
        "        answer = process_message(message)\n",
        "        return history + [[message, answer]], \"\"\n",
        "\n",
        "    msg_box.submit(respond, [msg_box, chatbot], [chatbot, msg_box])\n",
        "\n",
        "# Run Gradio app\n",
        "if __name__ == \"__main__\":\n",
        "    demo.launch(server_name=\"0.0.0.0\", server_port=7861)"
      ]
    }
  ],
  "metadata": {
    "colab": {
      "provenance": []
    },
    "kernelspec": {
      "display_name": "Python 3",
      "name": "python3"
    },
    "language_info": {
      "name": "python"
    }
  },
  "nbformat": 4,
  "nbformat_minor": 0
}
